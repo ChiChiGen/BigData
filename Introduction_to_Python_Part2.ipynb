{
  "nbformat": 4,
  "nbformat_minor": 0,
  "metadata": {
    "colab": {
      "provenance": []
    },
    "kernelspec": {
      "name": "python3",
      "display_name": "Python 3"
    },
    "language_info": {
      "name": "python"
    }
  },
  "cells": [
    {
      "cell_type": "markdown",
      "source": [
        "# GGE-5405/6505 Big Data\n",
        "\n",
        "# **Intro to Python - Part 2**\n",
        "\n"
      ],
      "metadata": {
        "id": "IFLogjs-S9dd"
      }
    },
    {
      "cell_type": "markdown",
      "source": [
        "## **Loops**\n",
        "Looping means repeating something over and over until a particular condition is satisfied or until that object is complete. It is useful to run the same operation on many different values.\n",
        "\n",
        "There are two types of loops in Python:\n",
        "\n",
        "\n",
        "\n",
        "```\n",
        "1) for loop : for loops are traditionally used when you have a block of code which you want to repeat a fixed number of times. \n",
        "you can use it for range, lists, tuples,....\n",
        "\n",
        "    for var in iterable:\n",
        "      statement\n",
        "      \n",
        "2) While loop : A \"While\" Loop is used to repeat a specific block of code an unknown number of times\n",
        "\n",
        "    while condition:\n",
        "      statement\n",
        "```\n",
        "\n",
        "\n"
      ],
      "metadata": {
        "id": "_cHsbaEw9Ivu"
      }
    },
    {
      "cell_type": "code",
      "source": [
        "# for loop\n",
        "for letter in \"the weather is nice today\":\n",
        "  print(letter)"
      ],
      "metadata": {
        "id": "aGIMV_Sua6yJ",
        "colab": {
          "base_uri": "https://localhost:8080/"
        },
        "outputId": "232a82c4-309f-4858-82f9-1ff203368949"
      },
      "execution_count": 35,
      "outputs": [
        {
          "output_type": "stream",
          "name": "stdout",
          "text": [
            "t\n",
            "h\n",
            "e\n",
            " \n",
            "w\n",
            "e\n",
            "a\n",
            "t\n",
            "h\n",
            "e\n",
            "r\n",
            " \n",
            "i\n",
            "s\n",
            " \n",
            "n\n",
            "i\n",
            "c\n",
            "e\n",
            " \n",
            "t\n",
            "o\n",
            "d\n",
            "a\n",
            "y\n"
          ]
        }
      ]
    },
    {
      "cell_type": "markdown",
      "source": [
        "Note that the body of the loop is **indented** so that it can all run together. "
      ],
      "metadata": {
        "id": "j8Q8R0BUUZNX"
      }
    },
    {
      "cell_type": "code",
      "source": [
        "# How many times is the loop executed?\n",
        "word = 'hello'\n",
        "for char in word:\n",
        "    print(char)"
      ],
      "metadata": {
        "colab": {
          "base_uri": "https://localhost:8080/"
        },
        "id": "01HmPM-k8oZ7",
        "outputId": "91117986-49ba-4b74-ca01-472e0359929e"
      },
      "execution_count": 36,
      "outputs": [
        {
          "output_type": "stream",
          "name": "stdout",
          "text": [
            "h\n",
            "e\n",
            "l\n",
            "l\n",
            "o\n"
          ]
        }
      ]
    },
    {
      "cell_type": "code",
      "source": [
        "# iterate through a list\n",
        "names = [\"Mary\", \"George\" , \"Ali\", \"Sher\"]\n",
        "for name in names:\n",
        "  print(name) # body of loop is indented"
      ],
      "metadata": {
        "id": "_to5LM0BbQ4K",
        "colab": {
          "base_uri": "https://localhost:8080/"
        },
        "outputId": "433ebace-02f9-4584-e496-d5dcebc02eb8"
      },
      "execution_count": 37,
      "outputs": [
        {
          "output_type": "stream",
          "name": "stdout",
          "text": [
            "Mary\n",
            "George\n",
            "Ali\n",
            "Sher\n"
          ]
        }
      ]
    },
    {
      "cell_type": "code",
      "source": [
        "# Write a loop that calculates the sum of elements in a list\n",
        "numbers = [254, 366, 68]\n",
        "sum = 0\n",
        "for num in numbers:\n",
        "    sum += num # same as sum = sum + num\n",
        "print(sum)"
      ],
      "metadata": {
        "id": "gxvUe2vI88ZZ",
        "colab": {
          "base_uri": "https://localhost:8080/"
        },
        "outputId": "7ea9c9fd-687f-4feb-be1e-395ccbe02eb0"
      },
      "execution_count": 38,
      "outputs": [
        {
          "output_type": "stream",
          "name": "stdout",
          "text": [
            "688\n"
          ]
        }
      ]
    },
    {
      "cell_type": "markdown",
      "source": [
        "The `range(start, stop)` function creates a list of integers between the start and stop values. In the example below, range(start, stop) iterates through the range of values starting with the 'start' value up to, but NOT INCLUDING the 'stop' value."
      ],
      "metadata": {
        "id": "1ZEy-R9mctiP"
      }
    },
    {
      "cell_type": "code",
      "source": [
        "for i in range(1,10):\n",
        "  print(i)"
      ],
      "metadata": {
        "colab": {
          "base_uri": "https://localhost:8080/"
        },
        "id": "F5qc5Q_7VRj3",
        "outputId": "4743f090-969b-4b16-82f3-0c5bc64f1580"
      },
      "execution_count": 39,
      "outputs": [
        {
          "output_type": "stream",
          "name": "stdout",
          "text": [
            "1\n",
            "2\n",
            "3\n",
            "4\n",
            "5\n",
            "6\n",
            "7\n",
            "8\n",
            "9\n"
          ]
        }
      ]
    },
    {
      "cell_type": "markdown",
      "source": [
        "Alternatively,`range(num)` creates a zero-based list up to, but NOT INCLUDING, the specified value (num)."
      ],
      "metadata": {
        "id": "NK9ukaC9Vi1e"
      }
    },
    {
      "cell_type": "code",
      "source": [
        "# if only one value given, start value assumed to be zero\n",
        "for i in range(10):\n",
        "  print(i)"
      ],
      "metadata": {
        "id": "FROfHWLCawlC",
        "colab": {
          "base_uri": "https://localhost:8080/"
        },
        "outputId": "971e3350-0b84-450e-9b5f-76d08e233b81"
      },
      "execution_count": 40,
      "outputs": [
        {
          "output_type": "stream",
          "name": "stdout",
          "text": [
            "0\n",
            "1\n",
            "2\n",
            "3\n",
            "4\n",
            "5\n",
            "6\n",
            "7\n",
            "8\n",
            "9\n"
          ]
        }
      ]
    },
    {
      "cell_type": "code",
      "source": [
        "# you can also use len() to determine how many values to iterate through\n",
        "for i in range(len(names)):\n",
        "  print(i)"
      ],
      "metadata": {
        "id": "ClXXGEg5bozk",
        "colab": {
          "base_uri": "https://localhost:8080/"
        },
        "outputId": "e141dbcd-5119-4a3b-f91e-07ee7df45b3c"
      },
      "execution_count": 41,
      "outputs": [
        {
          "output_type": "stream",
          "name": "stdout",
          "text": [
            "0\n",
            "1\n",
            "2\n",
            "3\n"
          ]
        }
      ]
    },
    {
      "cell_type": "markdown",
      "source": [
        "To return the *value* of a list, you can use indexing. In the example above, 'i' is a value from 0 to 3 (remember, python indexing starts at zero). This represents the index position of the elements in list 'names'. To get the *value* of the element in the list, you can use the index 'i' to extract it from the list."
      ],
      "metadata": {
        "id": "tSiXDs6hbsD2"
      }
    },
    {
      "cell_type": "code",
      "source": [
        "# extract the value of each element in the list\n",
        "for i in range(len(names)):\n",
        "  print(names[i])"
      ],
      "metadata": {
        "id": "DOKhR7a2b9Ew",
        "colab": {
          "base_uri": "https://localhost:8080/"
        },
        "outputId": "01a64bb1-9268-42b2-bbe5-ea624dff4fdf"
      },
      "execution_count": 42,
      "outputs": [
        {
          "output_type": "stream",
          "name": "stdout",
          "text": [
            "Mary\n",
            "George\n",
            "Ali\n",
            "Sher\n"
          ]
        }
      ]
    },
    {
      "cell_type": "markdown",
      "source": [
        "The function `enumerate()` is used to return both the index and the value for each iteration. It takes a sequence (like a list) and returns a sequence of the same length, where each element is composed of an index and a value."
      ],
      "metadata": {
        "id": "H40iY2-MfwYO"
      }
    },
    {
      "cell_type": "code",
      "source": [
        "# in each iteration, assign the index to 'count' and its value to 'name'\n",
        "for count, name in enumerate(names):\n",
        "  print(count, name)"
      ],
      "metadata": {
        "id": "X0luYIEvlN6S",
        "colab": {
          "base_uri": "https://localhost:8080/"
        },
        "outputId": "10b027fb-4855-4920-f38b-77ea0ac7401f"
      },
      "execution_count": 43,
      "outputs": [
        {
          "output_type": "stream",
          "name": "stdout",
          "text": [
            "0 Mary\n",
            "1 George\n",
            "2 Ali\n",
            "3 Sher\n"
          ]
        }
      ]
    },
    {
      "cell_type": "code",
      "source": [
        "# while loop\n",
        "i = 1\n",
        "while i <= 10:\n",
        "   print(i)\n",
        "   i += 1 # same as i = i + 1\n",
        "print(\"Done\")"
      ],
      "metadata": {
        "id": "BBlMYNCuaKJ0",
        "colab": {
          "base_uri": "https://localhost:8080/"
        },
        "outputId": "151be0e0-88db-4c24-f938-f8698e7310f1"
      },
      "execution_count": 44,
      "outputs": [
        {
          "output_type": "stream",
          "name": "stdout",
          "text": [
            "1\n",
            "2\n",
            "3\n",
            "4\n",
            "5\n",
            "6\n",
            "7\n",
            "8\n",
            "9\n",
            "10\n",
            "Done\n"
          ]
        }
      ]
    },
    {
      "cell_type": "markdown",
      "source": [
        "\n",
        "`break` exits a `while` or `for` loop immediately"
      ],
      "metadata": {
        "id": "VJjmJtbu9e1p"
      }
    },
    {
      "cell_type": "code",
      "source": [
        "# Break and while conditional\n",
        "print(\"Break and while conditional\")\n",
        "count = 0\n",
        "while True:\n",
        "    # You may think this would run forever, but ...\n",
        "    print(count)\n",
        "    count += 1\n",
        "    if count >= 5:\n",
        "        break"
      ],
      "metadata": {
        "id": "RKN1_57t8eIX",
        "colab": {
          "base_uri": "https://localhost:8080/"
        },
        "outputId": "d5bdd238-d1ce-431d-baa4-fea839353320"
      },
      "execution_count": 46,
      "outputs": [
        {
          "output_type": "stream",
          "name": "stdout",
          "text": [
            "Break and while conditional\n",
            "0\n",
            "1\n",
            "2\n",
            "3\n",
            "4\n"
          ]
        }
      ]
    },
    {
      "cell_type": "markdown",
      "source": [
        "See what happens when you comment out the last two lines of the above code. \n",
        "\n",
        "Note: to comment out lines of code, highlight the code, hold down CTRL, then press forward slash. Repeat to reverse the procedure.\n",
        "\n",
        "Also Note: to stop a code from running, click on the stop button on the top left corner of the code cell."
      ],
      "metadata": {
        "id": "g9txJuMQeXfP"
      }
    },
    {
      "cell_type": "markdown",
      "source": [
        "## **Conditional Statements**\n",
        "Conditional statements allow a computer to make decisions based on whether some specified conditions are True or False.\n",
        "\n",
        "For these statements, we can add to the list of boolean operators:` and, or and in.`"
      ],
      "metadata": {
        "id": "A1HOLxQS8kTf"
      }
    },
    {
      "cell_type": "markdown",
      "source": [
        "These can be used to create nuanced comparisons using `if, elif and else`.\n",
        "\n",
        "For instance:\n",
        "```\n",
        "I want to go out\n",
        "\n",
        "If it is sunny (condition 1)\n",
        "\n",
        "  I bring sunglasses (statement 1)\n",
        "\n",
        "Otherwise if it is cloudy (condition 2)\n",
        "\n",
        "  I bring a jacket (statement 2)\n",
        "\n",
        "otherwise\n",
        "\n",
        "I take a cab (statement 3)\n",
        "\n",
        "\n",
        "\n",
        "1)\n",
        "If condition1:\n",
        "  statement1\n",
        "\n",
        "2)\n",
        "If condition1:\n",
        "  statement1\n",
        "else:\n",
        "  statement3\n",
        "  \n",
        "3)\n",
        "If condition1:\n",
        "  statement1\n",
        "elif condition2:\n",
        "  statement2\n",
        "else:\n",
        "  statement3\n",
        "\n",
        "```\n",
        "\n"
      ],
      "metadata": {
        "id": "xWEs9XDe8xz1"
      }
    },
    {
      "cell_type": "markdown",
      "source": [
        "Let's format the following in code:\n",
        "\n"
      ],
      "metadata": {
        "id": "73HX5ra0i8Vx"
      }
    },
    {
      "cell_type": "markdown",
      "source": [
        "<img src=\"https://andreareid.github.io/Data/images/if_else.png\" width=\"600\" height=\"400\" />\n"
      ],
      "metadata": {
        "id": "jZQ0C73HHiDD"
      }
    },
    {
      "cell_type": "code",
      "source": [
        "number = 15\n",
        "\n",
        "if number == 10:\n",
        "  print('Number is 10')\n",
        "else:\n",
        "  print('Number is not 10')\n",
        "print('fini')"
      ],
      "metadata": {
        "colab": {
          "base_uri": "https://localhost:8080/"
        },
        "id": "oRe0vsnFlksE",
        "outputId": "59693e49-2a2f-4173-8d56-aabf47e517ce"
      },
      "execution_count": 47,
      "outputs": [
        {
          "output_type": "stream",
          "name": "stdout",
          "text": [
            "Number is not 10\n",
            "fini\n"
          ]
        }
      ]
    },
    {
      "cell_type": "markdown",
      "source": [
        "In the above example, we know that the number is not 10. We can add other conditional statements to determine if the number is less than or greater than 10."
      ],
      "metadata": {
        "id": "ORL7PPqppDOe"
      }
    },
    {
      "cell_type": "code",
      "source": [
        "if number == 10:\n",
        "  print('Number is 10')\n",
        "elif number > 10:\n",
        "  print('Number is greater than 10')\n",
        "else:\n",
        "  print('Number is less than 10')\n",
        "print('fini')"
      ],
      "metadata": {
        "colab": {
          "base_uri": "https://localhost:8080/"
        },
        "id": "4dbZVDU-piW1",
        "outputId": "3b44058f-8dc5-4faf-8d50-6b114e2a4ce9"
      },
      "execution_count": 48,
      "outputs": [
        {
          "output_type": "stream",
          "name": "stdout",
          "text": [
            "Number is greater than 10\n",
            "fini\n"
          ]
        }
      ]
    },
    {
      "cell_type": "code",
      "source": [
        "# Using 'and' and 'or' boolean operators\n",
        "x = 2\n",
        "y = 10\n",
        "if x > 2:\n",
        "    print(\"x > 2\")\n",
        "elif x == 2 and y > 50:\n",
        "    print(\"x == 2 and y > 50\")\n",
        "elif x < 10 or y > 50:\n",
        "    # But, remember, you don't know WHICH condition was True\n",
        "    print(\"x < 10 or y > 50\")\n",
        "else:\n",
        "    print(\"Nothing worked.\")"
      ],
      "metadata": {
        "id": "T67Pv_Gc8drH",
        "colab": {
          "base_uri": "https://localhost:8080/"
        },
        "outputId": "fd5bfcf8-2d02-498a-de5f-a16e3bdc6770"
      },
      "execution_count": 49,
      "outputs": [
        {
          "output_type": "stream",
          "name": "stdout",
          "text": [
            "x < 10 or y > 50\n"
          ]
        }
      ]
    },
    {
      "cell_type": "markdown",
      "source": [
        "## **Functions**\n",
        "\n",
        "We are already familiar with built-in python functions, such as print(), but now let's have a look at how we can create our own functions in python. \n",
        "\n",
        "A function is a block of code that only runs when it is called. Python functions return a value using a return statement, if one is specified. A function can be called anywhere after the function has been declared. You can use functions for organizing your codes.\n",
        "\n",
        "The general format is:\n",
        "\n",
        "\n",
        "\n",
        "```\n",
        "def Name_of_Function (parameters):\n",
        "  print()\n",
        "```\n",
        "How to call the function:\n",
        "```\n",
        "Name_of_Function(param)\n",
        "\n",
        "```\n",
        "\n",
        "\n"
      ],
      "metadata": {
        "id": "Eg34jaZ39lJy"
      }
    },
    {
      "cell_type": "code",
      "source": [
        "# create the function\n",
        "def employee(name, age):\n",
        "  print(name + \" is \" + str(age))"
      ],
      "metadata": {
        "id": "_3LIoHDs8ePy"
      },
      "execution_count": 50,
      "outputs": []
    },
    {
      "cell_type": "code",
      "source": [
        "# call the function\n",
        "employee(\"Mike\", 20)"
      ],
      "metadata": {
        "colab": {
          "base_uri": "https://localhost:8080/"
        },
        "id": "bdiikQ-TsrkV",
        "outputId": "49f3d06c-96fc-4a08-a248-579cb4d79643"
      },
      "execution_count": 51,
      "outputs": [
        {
          "output_type": "stream",
          "name": "stdout",
          "text": [
            "Mike is 20\n"
          ]
        }
      ]
    },
    {
      "cell_type": "code",
      "source": [
        "# Return Statement: breaks the function\n",
        "def area(num):\n",
        "  return num * num"
      ],
      "metadata": {
        "id": "QhmTHVWJjJIT"
      },
      "execution_count": 52,
      "outputs": []
    },
    {
      "cell_type": "code",
      "source": [
        "area(5)"
      ],
      "metadata": {
        "colab": {
          "base_uri": "https://localhost:8080/"
        },
        "id": "4rCMTKd6UWX1",
        "outputId": "d908cfb5-d24c-47dc-8aad-b1e53baa1634"
      },
      "execution_count": 53,
      "outputs": [
        {
          "output_type": "execute_result",
          "data": {
            "text/plain": [
              "25"
            ]
          },
          "metadata": {},
          "execution_count": 53
        }
      ]
    },
    {
      "cell_type": "markdown",
      "source": [
        "A function can be written to call itself within the function, a process known as recursion. Careful that the function will eventually stop! Check out this example on w3schools: https://www.w3schools.com/python/gloss_python_function_recursion.asp"
      ],
      "metadata": {
        "id": "QAOyPu7zursH"
      }
    },
    {
      "cell_type": "code",
      "source": [
        "def tri_recursion(k):\n",
        "  if(k > 0):\n",
        "    result = k + tri_recursion(k - 1) # if you remove -1, there will be a recursion error\n",
        "    print(result)\n",
        "  else:\n",
        "    result = 0\n",
        "  return result\n",
        "\n",
        "print(\"\\nRecursion Example Results\\n\") # note, you can use \\n to go print on next line\n",
        "\n",
        "tri_recursion(5)"
      ],
      "metadata": {
        "id": "Betg7YHLkBKS"
      },
      "execution_count": null,
      "outputs": []
    },
    {
      "cell_type": "markdown",
      "source": [
        "## **Working with Modules**\n",
        "A Python module is a file containing Python definitions and statements. A module can define functions, classes, and variables. A module can also include runnable code.\n",
        "we can consider a module to be the same as a code library or a file that contains a set of functions that you want to include in your application."
      ],
      "metadata": {
        "id": "EZP_gVb4I35D"
      }
    },
    {
      "cell_type": "markdown",
      "source": [
        "Example: Python math module includes common mathematical functions, such as trigonometric functions, representation functions, logarithmic functions, etc."
      ],
      "metadata": {
        "id": "d3QM6XB0r_a0"
      }
    },
    {
      "cell_type": "markdown",
      "source": [
        "First let's try out some existing python functions."
      ],
      "metadata": {
        "id": "HFOP-JPHGxGu"
      }
    },
    {
      "cell_type": "code",
      "source": [
        "# return the absolute value of a number\n",
        "print(abs(-4))"
      ],
      "metadata": {
        "id": "57aAGgRWeFie",
        "colab": {
          "base_uri": "https://localhost:8080/"
        },
        "outputId": "9aae8c42-1ba4-4006-8d9f-4bb26346655e"
      },
      "execution_count": 54,
      "outputs": [
        {
          "output_type": "stream",
          "name": "stdout",
          "text": [
            "4\n"
          ]
        }
      ]
    },
    {
      "cell_type": "code",
      "source": [
        "# return the power\n",
        "print(pow(2,3))"
      ],
      "metadata": {
        "id": "9h9M4pX7iqG8",
        "colab": {
          "base_uri": "https://localhost:8080/"
        },
        "outputId": "f09cf9b8-772b-44fc-dae6-314ee8e41bba"
      },
      "execution_count": 55,
      "outputs": [
        {
          "output_type": "stream",
          "name": "stdout",
          "text": [
            "8\n"
          ]
        }
      ]
    },
    {
      "cell_type": "code",
      "source": [
        "print(sqrt(2))"
      ],
      "metadata": {
        "id": "iKnwonRgiHgR",
        "colab": {
          "base_uri": "https://localhost:8080/",
          "height": 166
        },
        "outputId": "396213f5-4650-4ccb-e9a9-4b580bd8875a"
      },
      "execution_count": 56,
      "outputs": [
        {
          "output_type": "error",
          "ename": "NameError",
          "evalue": "ignored",
          "traceback": [
            "\u001b[0;31m---------------------------------------------------------------------------\u001b[0m",
            "\u001b[0;31mNameError\u001b[0m                                 Traceback (most recent call last)",
            "\u001b[0;32m<ipython-input-56-fc87e550f4ba>\u001b[0m in \u001b[0;36m<module>\u001b[0;34m\u001b[0m\n\u001b[0;32m----> 1\u001b[0;31m \u001b[0mprint\u001b[0m\u001b[0;34m(\u001b[0m\u001b[0msqrt\u001b[0m\u001b[0;34m(\u001b[0m\u001b[0;36m2\u001b[0m\u001b[0;34m)\u001b[0m\u001b[0;34m)\u001b[0m\u001b[0;34m\u001b[0m\u001b[0;34m\u001b[0m\u001b[0m\n\u001b[0m",
            "\u001b[0;31mNameError\u001b[0m: name 'sqrt' is not defined"
          ]
        }
      ]
    },
    {
      "cell_type": "markdown",
      "source": [
        "In the above example, a NameError is passed. The function sqrt() does not exist. The python Math Module expands existing mathematical functions for use in python.\n",
        "\n",
        "To load a module that has already been installed (the Math module comes pre-installed!), we can use 'import'."
      ],
      "metadata": {
        "id": "-L3es0fDh8KM"
      }
    },
    {
      "cell_type": "code",
      "source": [
        "import math"
      ],
      "metadata": {
        "id": "f06JD8COG9_z"
      },
      "execution_count": 57,
      "outputs": []
    },
    {
      "cell_type": "markdown",
      "source": [
        "Now we can use the sqrt() function offered by the math module. However, we need to specifiy the module we are calling the function from first by prefixing the function name with the module name and separating each by a point, like so:\n",
        "\n",
        "`module_name.function_name(parameters)`"
      ],
      "metadata": {
        "id": "8rqgTHpDHEsg"
      }
    },
    {
      "cell_type": "code",
      "source": [
        "# sqrt() is part of the math module\n",
        "math.sqrt(2)"
      ],
      "metadata": {
        "id": "Ld9e2DV0kOyG",
        "colab": {
          "base_uri": "https://localhost:8080/"
        },
        "outputId": "d373c635-d04f-4e93-858a-7e1a15add0da"
      },
      "execution_count": 58,
      "outputs": [
        {
          "output_type": "execute_result",
          "data": {
            "text/plain": [
              "1.4142135623730951"
            ]
          },
          "metadata": {},
          "execution_count": 58
        }
      ]
    },
    {
      "cell_type": "markdown",
      "source": [
        "A Python library is a collection of related modules. It contains bundles of code that can be used repeatedly in different programs. It makes Python Programming simpler and convenient for the programmer. It also eliminates the need to code from scratch."
      ],
      "metadata": {
        "id": "eLvKmtqAsj9E"
      }
    },
    {
      "cell_type": "markdown",
      "source": [
        "Some useful libraries are listed below, many of which we will be exploring throughout the course:\n",
        "\n",
        "\n",
        "**A. Data Cleaning and Data Manipulation**\n",
        "\n",
        "1.   Pandas\n",
        "2.   Numpy\n",
        "3.   Spacy\n",
        "4.   SciPy\n",
        "\n",
        "\n",
        "**B. Data Gathering**\n",
        "\n",
        "1. Beautiful Soap\n",
        "2. Scrapy\n",
        "3. Selenium\n",
        "\n",
        "\n",
        "**C. Data Visualisation**\n",
        "\n",
        "1. Matplotlib\n",
        "2. Seaborn\n",
        "3. Bokeh\n",
        "4. Plotly\n",
        "\n",
        "\n",
        "**D. Data Modelling**\n",
        "\n",
        "1. Scikit-Learn\n",
        "2. PyTorch\n",
        "3. TensorFlow\n",
        "4. Theano\n",
        "\n",
        "**E. Image Processing**\n",
        "\n",
        "1. Scikit-Image\n",
        "2. Pillow\n",
        "3. OpenCV\n",
        "\n",
        "\n",
        "\n",
        "\n",
        "\n",
        "\n",
        "\n"
      ],
      "metadata": {
        "id": "DAFw6xkw_Gyk"
      }
    },
    {
      "cell_type": "markdown",
      "source": [
        "##**Getting Input From Users**\n",
        "`input ( )` : This function first takes the input from the user and then evaluates the expression."
      ],
      "metadata": {
        "id": "gdqAgypoEr_a"
      }
    },
    {
      "cell_type": "code",
      "source": [
        "num = input (\"Enter number :\")\n",
        "print(num)\n"
      ],
      "metadata": {
        "id": "zg2z9PWGEqys",
        "colab": {
          "base_uri": "https://localhost:8080/"
        },
        "outputId": "1141892f-e478-42d6-9513-9d11e7f17cb5"
      },
      "execution_count": 59,
      "outputs": [
        {
          "output_type": "stream",
          "name": "stdout",
          "text": [
            "Enter number :6\n",
            "6\n"
          ]
        }
      ]
    },
    {
      "cell_type": "code",
      "source": [
        "name1 = input(\"Enter name : \")\n",
        "print(\"My name is \"+ name1 + \" and I am \"+ num + \" years old!\")"
      ],
      "metadata": {
        "id": "bJWuBq5LNoPt",
        "colab": {
          "base_uri": "https://localhost:8080/"
        },
        "outputId": "edb88705-1a08-4409-86ff-8dce081e7efa"
      },
      "execution_count": 60,
      "outputs": [
        {
          "output_type": "stream",
          "name": "stdout",
          "text": [
            "Enter name : andrea\n",
            "My name is andrea and I am 6 years old!\n"
          ]
        }
      ]
    },
    {
      "cell_type": "code",
      "source": [
        "type(num)"
      ],
      "metadata": {
        "id": "zUn67j7PFRzB",
        "colab": {
          "base_uri": "https://localhost:8080/"
        },
        "outputId": "a03f96d9-845b-448e-d6c0-fbeef163de5d"
      },
      "execution_count": 61,
      "outputs": [
        {
          "output_type": "execute_result",
          "data": {
            "text/plain": [
              "str"
            ]
          },
          "metadata": {},
          "execution_count": 61
        }
      ]
    },
    {
      "cell_type": "markdown",
      "source": [
        "\n",
        "\n",
        "\n",
        "Ok, how about calculation? \n",
        "\n",
        "\n"
      ],
      "metadata": {
        "id": "Rgi0yYQfG4x5"
      }
    },
    {
      "cell_type": "code",
      "source": [
        "num1 = input(\"Enter a number:\")\n",
        "num2 = input(\"Enter another number:\")\n",
        "result = num1+num2\n",
        "print(result)"
      ],
      "metadata": {
        "id": "w9f-VkLlHG7c",
        "colab": {
          "base_uri": "https://localhost:8080/"
        },
        "outputId": "cea90a80-142b-4d5e-e17b-0a05a8042d47"
      },
      "execution_count": 62,
      "outputs": [
        {
          "output_type": "stream",
          "name": "stdout",
          "text": [
            "Enter a number:1\n",
            "Enter another number:2\n",
            "12\n"
          ]
        }
      ]
    },
    {
      "cell_type": "code",
      "source": [
        "num1 = input(\"Enter a number:\")\n",
        "num2 = input(\"Enter another number:\")\n",
        "result = int(num1)+int(num2)\n",
        "print(result)"
      ],
      "metadata": {
        "colab": {
          "base_uri": "https://localhost:8080/"
        },
        "id": "P31_TIplhuQQ",
        "outputId": "44ce460a-c9b2-4f45-9116-1f69d6ec2f9b"
      },
      "execution_count": 63,
      "outputs": [
        {
          "output_type": "stream",
          "name": "stdout",
          "text": [
            "Enter a number:1\n",
            "Enter another number:2\n",
            "3\n"
          ]
        }
      ]
    },
    {
      "cell_type": "markdown",
      "source": [
        "\n",
        "\n",
        "##**Example: A Simple Calculator in Python**\n"
      ],
      "metadata": {
        "id": "fOSANw0As8Fn"
      }
    },
    {
      "cell_type": "markdown",
      "source": [
        "Putting it all together: A Simple Calculator in Python\n",
        "\n",
        "\n",
        "```\n",
        "# This is formatted as code\n",
        "```\n",
        "\n"
      ],
      "metadata": {
        "id": "L1zCy_4H9uyK"
      }
    },
    {
      "cell_type": "code",
      "source": [
        "\n",
        "# This function adds two numbers\n",
        "def add(x, y):\n",
        "    return x + y\n",
        "\n",
        "# This function subtracts two numbers\n",
        "def subtract(x, y):\n",
        "    return x - y\n",
        "\n",
        "# This function multiplies two numbers\n",
        "def multiply(x, y):\n",
        "    return x * y\n",
        "\n",
        "# This function divides two numbers\n",
        "def divide(x, y):\n",
        "    return x / y\n",
        "\n",
        "print(\"Select operation.\")\n",
        "print(\"1.Add\")\n",
        "print(\"2.Subtract\")\n",
        "print(\"3.Multiply\")\n",
        "print(\"4.Divide\")\n",
        "\n",
        "while True:\n",
        "    # take input from the user\n",
        "    choice = input(\"Enter choice(1/2/3/4): \")\n",
        "\n",
        "    # check if choice is one of the four options\n",
        "    if choice in ('1', '2', '3', '4'):\n",
        "        num1 = float(input(\"Enter first number: \"))\n",
        "        num2 = float(input(\"Enter second number: \"))\n",
        "\n",
        "        if choice == '1':\n",
        "            print(num1, \"+\", num2, \"=\", add(num1, num2))\n",
        "\n",
        "        elif choice == '2':\n",
        "            print(num1, \"-\", num2, \"=\", subtract(num1, num2))\n",
        "\n",
        "        elif choice == '3':\n",
        "            print(num1, \"*\", num2, \"=\", multiply(num1, num2))\n",
        "\n",
        "        elif choice == '4':\n",
        "            print(num1, \"/\", num2, \"=\", divide(num1, num2))\n",
        "        \n",
        "        # check if user wants another calculation\n",
        "        # break the while loop if answer is no\n",
        "        next_calculation = input(\"Let's do next calculation? (yes/no): \")\n",
        "        if next_calculation == \"no\":\n",
        "          break\n",
        "    \n",
        "    else:\n",
        "        print(\"Invalid Input\")"
      ],
      "metadata": {
        "id": "lRtJGlGgs7dt",
        "colab": {
          "base_uri": "https://localhost:8080/"
        },
        "outputId": "5539bbd0-0b39-4c60-8843-4b9d7b727e32"
      },
      "execution_count": 64,
      "outputs": [
        {
          "name": "stdout",
          "output_type": "stream",
          "text": [
            "Select operation.\n",
            "1.Add\n",
            "2.Subtract\n",
            "3.Multiply\n",
            "4.Divide\n",
            "Enter choice(1/2/3/4): 1\n",
            "Enter first number: 2\n",
            "Enter second number: 3\n",
            "2.0 + 3.0 = 5.0\n",
            "Let's do next calculation? (yes/no): no\n"
          ]
        }
      ]
    },
    {
      "cell_type": "markdown",
      "source": [
        "##**Working with Files**"
      ],
      "metadata": {
        "id": "aGeDJzv4KXnh"
      }
    },
    {
      "cell_type": "markdown",
      "source": [
        "\n",
        "To read a text file in Python, you follow these steps:\n",
        "\n",
        "```\n",
        "1 - First, open a text file for reading by using the open() function.\n",
        "2 - Read text from the text file using the file read(), readline(), or readlines() method of the file object.\n",
        "3 - close the file using the file close() method.\n",
        "\n",
        "The following table shows available modes for opening a text file:\n",
        "\n",
        "Mode\tDescription\n",
        "'r'  Open a text file for reading text\n",
        "'w'  Open a text file for writing text (creates new file or overwrites exisiting one)\n",
        "'a'  Open a text file for appending text (e.g., to existing content)\n",
        "\"x\"  Creates the specified file, returns an error if the file exists\n",
        "```\n",
        "\n"
      ],
      "metadata": {
        "id": "8Nxw-6IzKcsu"
      }
    },
    {
      "cell_type": "code",
      "source": [
        "# create a new file\n",
        "f = open(\"demofile.txt\", \"w\") # hover over open() to view documentation"
      ],
      "metadata": {
        "id": "hy_nqbyM21ss"
      },
      "execution_count": 65,
      "outputs": []
    },
    {
      "cell_type": "code",
      "source": [
        "# write new contents.\n",
        "f.write(\"I can write some text here\")"
      ],
      "metadata": {
        "colab": {
          "base_uri": "https://localhost:8080/"
        },
        "id": "zmyIlMeP8tbc",
        "outputId": "e3a9947b-44cd-43e1-83d2-1db7d93642a1"
      },
      "execution_count": 68,
      "outputs": [
        {
          "output_type": "execute_result",
          "data": {
            "text/plain": [
              "26"
            ]
          },
          "metadata": {},
          "execution_count": 68
        }
      ]
    },
    {
      "cell_type": "code",
      "source": [
        "# close and re-open using \"r\" to read file\n",
        "f.close()\n",
        "f = open(\"demofile.txt\", \"r\")\n",
        "f.read()"
      ],
      "metadata": {
        "id": "dq_J2a6L83VX",
        "colab": {
          "base_uri": "https://localhost:8080/",
          "height": 35
        },
        "outputId": "fc1321b7-1920-4cbd-ec5b-3e7e0ccc14bd"
      },
      "execution_count": 69,
      "outputs": [
        {
          "output_type": "execute_result",
          "data": {
            "text/plain": [
              "'I can write some text hereI can write some text hereI can write some text here'"
            ],
            "application/vnd.google.colaboratory.intrinsic+json": {
              "type": "string"
            }
          },
          "metadata": {},
          "execution_count": 69
        }
      ]
    },
    {
      "cell_type": "code",
      "source": [
        "f.close()"
      ],
      "metadata": {
        "id": "2U2eNnPg9hRm"
      },
      "execution_count": 70,
      "outputs": []
    },
    {
      "cell_type": "markdown",
      "source": [
        "Note that we can only write strings to the file. What if we want to add elements from a list?"
      ],
      "metadata": {
        "id": "e4eKou_d9Hnq"
      }
    },
    {
      "cell_type": "code",
      "source": [
        "# create an empty list and fill it using a for loop\n",
        "names = ['Gregory', 'Jacques', 'Sian', 'Ali']"
      ],
      "metadata": {
        "id": "1ygY_vnO3WzF"
      },
      "execution_count": 71,
      "outputs": []
    },
    {
      "cell_type": "code",
      "source": [
        "# open file in write mode\n",
        "with open('demofile.txt', 'w') as f:\n",
        "    for name in names:\n",
        "        # use \\n to write each item on a new line\n",
        "        f.write(name + \"\\n\")\n",
        "    print('Done')\n",
        "f.close()"
      ],
      "metadata": {
        "id": "AoACORck8K5D",
        "colab": {
          "base_uri": "https://localhost:8080/"
        },
        "outputId": "f98d4de3-80e3-4ebd-ba69-1c1087a539d5"
      },
      "execution_count": 72,
      "outputs": [
        {
          "output_type": "stream",
          "name": "stdout",
          "text": [
            "Done\n"
          ]
        }
      ]
    },
    {
      "cell_type": "markdown",
      "source": [
        "To view the results, open the text document in the Files pane on the left of the display. Note that the /n is translated to new lines for each element."
      ],
      "metadata": {
        "id": "AiiXE7_OLrFO"
      }
    },
    {
      "cell_type": "code",
      "source": [
        "f = open(\"demofile.txt\", \"r\")\n",
        "f.read()"
      ],
      "metadata": {
        "id": "mgGXFjuR5MZ6",
        "colab": {
          "base_uri": "https://localhost:8080/",
          "height": 35
        },
        "outputId": "db881f30-854c-4992-b563-4aa4c1a57efc"
      },
      "execution_count": 73,
      "outputs": [
        {
          "output_type": "execute_result",
          "data": {
            "text/plain": [
              "'Gregory\\nJacques\\nSian\\nAli\\n'"
            ],
            "application/vnd.google.colaboratory.intrinsic+json": {
              "type": "string"
            }
          },
          "metadata": {},
          "execution_count": 73
        }
      ]
    },
    {
      "cell_type": "code",
      "source": [
        "f.close()"
      ],
      "metadata": {
        "id": "pGja6YtXxByd"
      },
      "execution_count": 74,
      "outputs": []
    },
    {
      "cell_type": "code",
      "source": [
        "# append a new name to the file\n",
        "f = open(\"demofile.txt\", \"a\")\n",
        "f.write(\"Heidi\\n\")\n",
        "f.close()"
      ],
      "metadata": {
        "id": "27PLA-jN5_yB"
      },
      "execution_count": 76,
      "outputs": []
    },
    {
      "cell_type": "markdown",
      "source": [
        "Try out the different ways you can read the file:"
      ],
      "metadata": {
        "id": "nkPLOvPkMULx"
      }
    },
    {
      "cell_type": "code",
      "source": [
        "f = open(\"demofile.txt\", \"r\")\n",
        "#f.read()\n",
        "\n",
        "#f.readline()\n",
        "#f.readlines()\n",
        "#f.readlines()[1]\n",
        "\n",
        "for name in f.readlines():\n",
        "  print(name)"
      ],
      "metadata": {
        "id": "zX4NdH_BD_t1",
        "colab": {
          "base_uri": "https://localhost:8080/"
        },
        "outputId": "3934edd4-9819-407d-a3ec-c20faef16625"
      },
      "execution_count": 81,
      "outputs": [
        {
          "output_type": "stream",
          "name": "stdout",
          "text": [
            "Gregory\n",
            "\n",
            "Jacques\n",
            "\n",
            "Sian\n",
            "\n",
            "Ali\n",
            "\n",
            "Heidi\n",
            "\n",
            "Heidi\n",
            "\n"
          ]
        }
      ]
    },
    {
      "cell_type": "code",
      "source": [
        "f.close()"
      ],
      "metadata": {
        "id": "e58ySTHwFCHI"
      },
      "execution_count": 82,
      "outputs": []
    },
    {
      "cell_type": "markdown",
      "source": [
        "Now let's create a directory and some demo files for practice!"
      ],
      "metadata": {
        "id": "njSEB-0yMmTF"
      }
    },
    {
      "cell_type": "code",
      "source": [
        "# Create a new directory\n",
        "!mkdir DemoFiles"
      ],
      "metadata": {
        "id": "2wxaiK_eMxc6"
      },
      "execution_count": 83,
      "outputs": []
    },
    {
      "cell_type": "code",
      "source": [
        "# Create some demo files\n",
        "f1 = open(\"DemoFiles/demofile1.txt\", \"a\")\n",
        "f2 = open(\"DemoFiles/demofile2.txt\", \"a\")\n",
        "f3 = open(\"DemoFiles/demofile3.csv\", \"a\")"
      ],
      "metadata": {
        "id": "ONmapitMM5bZ"
      },
      "execution_count": 84,
      "outputs": []
    },
    {
      "cell_type": "code",
      "source": [
        "# Add content to the demo files\n",
        "f1.write(\"Gregory\\nJacques\\nSian\\nAli\\n\")\n",
        "f2.write(\"Pizza\\nSoup\\nsalad\\nTaco\")\n",
        "f3.write(\"1,2,3,4\")\n",
        "f1.close()\n",
        "f2.close()\n",
        "f3.close()"
      ],
      "metadata": {
        "id": "63Roowr7N1oR"
      },
      "execution_count": 85,
      "outputs": []
    },
    {
      "cell_type": "code",
      "source": [
        "# create list of files using os module (more on modules below!)\n",
        "import os\n",
        "files = os.listdir(\"/content/DemoFiles\")"
      ],
      "metadata": {
        "id": "nJPiOuvxPqXU"
      },
      "execution_count": 86,
      "outputs": []
    },
    {
      "cell_type": "code",
      "source": [
        "files"
      ],
      "metadata": {
        "colab": {
          "base_uri": "https://localhost:8080/"
        },
        "id": "FYESVslvyG8Z",
        "outputId": "b9e1c216-91ce-4776-c05d-2ef045e9cffc"
      },
      "execution_count": 87,
      "outputs": [
        {
          "output_type": "execute_result",
          "data": {
            "text/plain": [
              "['demofile2.txt', 'demofile3.csv', 'demofile1.txt']"
            ]
          },
          "metadata": {},
          "execution_count": 87
        }
      ]
    },
    {
      "cell_type": "code",
      "source": [
        "# Select only text files\n",
        "text_files = [] # create an empty list to store only text files\n",
        "for file in files:\n",
        "  if \".txt\" in file: # 'in' is a boolean operator here\n",
        "    text_files.append(file)\n",
        "print(text_files)"
      ],
      "metadata": {
        "colab": {
          "base_uri": "https://localhost:8080/"
        },
        "id": "LJycyeJ0Pc08",
        "outputId": "d280506a-fc5b-4b9b-f4d2-ff2c75198f00"
      },
      "execution_count": 88,
      "outputs": [
        {
          "output_type": "stream",
          "name": "stdout",
          "text": [
            "['demofile2.txt', 'demofile1.txt']\n"
          ]
        }
      ]
    }
  ]
}